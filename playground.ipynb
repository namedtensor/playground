{
 "cells": [
  {
   "cell_type": "code",
   "execution_count": 1,
   "metadata": {},
   "outputs": [],
   "source": [
    "from playground import *\n",
    "foo, bar, baz, key, seq, val, ax = setup_axes(\n",
    "    \"foo\", \"bar\", \"baz\", \"key\", \"seq\", \"val\", \"ax\"\n",
    ")"
   ]
  },
  {
   "cell_type": "code",
   "execution_count": 2,
   "metadata": {},
   "outputs": [
    {
     "data": {
      "text/latex": [
       "$$\\mathsf{bar}\\begin{array}{c}\\mathbb{R}^{\\mathsf{bar}\\times\\mathsf{foo}}\\\\ \\mathsf{foo} \\\\ \\begin{bmatrix}1 & 2 & 3 & 4\\\\2 & 4 & 6 & 8\\\\3 & 6 & 9 & 12\\\\4 & 8 & 12 & 16\\\\5 & 10 & 15 & 20 \\end{bmatrix}\\end{array}$$"
      ],
      "text/plain": [
       "<playground.tensor.Tensor at 0x7f263026b250>"
      ]
     },
     "execution_count": 2,
     "metadata": {},
     "output_type": "execute_result"
    }
   ],
   "source": [
    "A = Tensor([foo[4], bar[5]])\n",
    "for i in A.range(foo):\n",
    "    for j in A.range(bar):\n",
    "        A[i, j] = (i + 1) * (j + 1)\n",
    "A"
   ]
  },
  {
   "cell_type": "code",
   "execution_count": 3,
   "metadata": {},
   "outputs": [
    {
     "data": {
      "text/plain": [
       "5"
      ]
     },
     "execution_count": 3,
     "metadata": {},
     "output_type": "execute_result"
    }
   ],
   "source": [
    "B = Scalar(5)\n",
    "B[foo(2), bar(3)]\n"
   ]
  },
  {
   "cell_type": "code",
   "execution_count": 4,
   "metadata": {},
   "outputs": [
    {
     "name": "stdout",
     "output_type": "stream",
     "text": [
      "8.0\n"
     ]
    },
    {
     "data": {
      "text/latex": [
       "$$\\mathsf{bar}\\begin{array}{c}\\mathbb{R}^{\\mathsf{bar}\\times\\mathsf{foo}}\\\\ \\mathsf{foo} \\\\ \\begin{bmatrix}6.0 & 7.0 & 8.0 & 9.0\\\\7.0 & 9.0 & 11.0 & 13.0\\\\8.0 & 11.0 & 14.0 & 17.0\\\\9.0 & 13.0 & 17.0 & 21.0\\\\10.0 & 15.0 & 20.0 & 25.0 \\end{bmatrix}\\end{array}$$"
      ],
      "text/plain": [
       "<playground.tensor.Tensor at 0x7f26302d04f0>"
      ]
     },
     "execution_count": 4,
     "metadata": {},
     "output_type": "execute_result"
    }
   ],
   "source": [
    "print(3 + B)\n",
    "A + B"
   ]
  },
  {
   "cell_type": "code",
   "execution_count": 5,
   "metadata": {},
   "outputs": [
    {
     "data": {
      "text/latex": [
       "$$\\begin{array}{c}\\mathbb{R}^{\\mathsf{bar}}\\\\ \\mathsf{bar} \\\\ \\begin{bmatrix}3 & 6 & 9 & 12 & 15\\end{bmatrix}\\end{array}$$"
      ],
      "text/plain": [
       "<playground.tensor.Tensor at 0x7f263026b3d0>"
      ]
     },
     "execution_count": 5,
     "metadata": {},
     "output_type": "execute_result"
    }
   ],
   "source": [
    "A[foo(2)]"
   ]
  },
  {
   "cell_type": "code",
   "execution_count": 6,
   "metadata": {},
   "outputs": [
    {
     "data": {
      "text/latex": [
       "$\\displaystyle \\mathrm{Att}:\\mathbb{R}^{\\mathsf{key}} \\times \\mathbb{R}^{\\mathsf{seq} \\times \\mathsf{key}} \\times \\mathbb{R}^{\\mathsf{val}} \\rightarrow \\mathbb{R}^{\\mathsf{val}}\\\\ \n",
       "\\mathrm{Att}(Q, K, V) = \\mathop{\\mathop{\\mathrm{softmax}}\\limits_{\\mathsf{seq}}}\\left( \\frac{Q\\mathbin{\\mathop{\\boldsymbol\\cdot}\\limits_{\\mathsf{key}}}K}{\\sqrt{\\left|{key}\\right|}}\\right)\\mathbin{\\mathop{\\boldsymbol\\cdot}\\limits_{\\mathsf{seq}}}V$"
      ],
      "text/plain": [
       "<IPython.core.display.Math object>"
      ]
     },
     "execution_count": 6,
     "metadata": {},
     "output_type": "execute_result"
    }
   ],
   "source": [
    "from IPython.display import Math\n",
    "\n",
    "ndot = lambda _: None\n",
    "nfunsoftmax = lambda _: None\n",
    "\n",
    "def Att(Q: (key,), K: (seq, key), V: (val,)) -> (val,):\n",
    "    return ndot(seq, softmax(seq, ndot(key, Q, K) / math.sqrt(abs(key))), V)\n",
    "\n",
    "Math(get_latex(Att))"
   ]
  }
 ],
 "metadata": {
  "kernelspec": {
   "display_name": "Python 3",
   "language": "python",
   "name": "python3"
  },
  "language_info": {
   "codemirror_mode": {
    "name": "ipython",
    "version": 3
   },
   "file_extension": ".py",
   "mimetype": "text/x-python",
   "name": "python",
   "nbconvert_exporter": "python",
   "pygments_lexer": "ipython3",
   "version": "3.8.5"
  }
 },
 "nbformat": 4,
 "nbformat_minor": 4
}
